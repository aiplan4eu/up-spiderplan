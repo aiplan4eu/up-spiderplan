{
 "cells": [
  {
   "cell_type": "code",
   "execution_count": null,
   "id": "2b8cf3bb",
   "metadata": {},
   "outputs": [],
   "source": [
    "import math\n",
    "import os\n",
    "from unified_planning.shortcuts import *\n",
    "\n",
    "import matplotlib.pyplot as plt\n",
    "import matplotlib.image as mpimg\n",
    "import matplotlib.patches as patches\n",
    "from PIL import Image\n",
    "\n",
    "from up_spiderplan.solver import EngineImpl\n",
    "from up_spiderplan.util import plot_path"
   ]
  },
  {
   "cell_type": "markdown",
   "id": "f2ce5df7",
   "metadata": {},
   "source": [
    "# Movavle Type and Robots\n",
    "\n",
    "First, we create a movable type and two robot objects. Each robot has a footprint to indicate its shape, a motion model (here a Reeds Shepp car), and a list of parameters required by the motion model (here the turning radius of the Reeds Shepp car)."
   ]
  },
  {
   "cell_type": "code",
   "execution_count": null,
   "id": "c193b407",
   "metadata": {},
   "outputs": [],
   "source": [
    "t_robot = MovableType(\"robot\")\n",
    "\n",
    "r1 = MovableObject(\n",
    "    \"r1\",\n",
    "    t_robot,\n",
    "    footprint=[(-1.0, 0.5), (1.0, 0.5), (1.0, -0.5), (-1.0, -0.5)],\n",
    "    motion_model=MotionModels.REEDSSHEPP,\n",
    "    parameters={\"turning_radius\": 2.0},\n",
    ")\n",
    "\n",
    "r2 = MovableObject(\n",
    "    \"r2\",\n",
    "    t_robot,\n",
    "    footprint=[(-1.0, 0.5), (1.0, 0.5), (1.0, -0.5), (-1.0, -0.5)],\n",
    "    motion_model=MotionModels.REEDSSHEPP,\n",
    "    parameters={\"turning_radius\": 2.0},\n",
    ")"
   ]
  },
  {
   "cell_type": "markdown",
   "id": "5e008dba",
   "metadata": {},
   "source": [
    "# Occupancy Map and Configurations\n",
    "\n",
    "Now we create an occupancy map and a configuration type that links symbolic locations to robot poses in the map. We then create two parking positions for the robot and one location for each office."
   ]
  },
  {
   "cell_type": "code",
   "execution_count": null,
   "id": "b935c3d9",
   "metadata": {},
   "outputs": [],
   "source": [
    "occ_map = OccupancyMap(os.path.join(\"./maps/\", \"office-map-1.yaml\"), (0, 0))\n",
    "\n",
    "t_robot_config = ConfigurationType(\"robot_config\", occ_map, 3)\n",
    "\n",
    "park1 = ConfigurationObject(\"parking-1\", t_robot_config, (46.0, 26.0, 3*math.pi/2))\n",
    "park2 = ConfigurationObject(\"parking-2\", t_robot_config, (40.0, 26.0, 3*math.pi/2))\n",
    "\n",
    "office1 = ConfigurationObject(\"office-1\", t_robot_config, (4.0, 4.0, 3*math.pi/2))\n",
    "office2 = ConfigurationObject(\"office-2\", t_robot_config, (14.0, 4.0, math.pi/2))\n",
    "office3 = ConfigurationObject(\"office-3\", t_robot_config, (24.0, 4.0, 3*math.pi/2))\n",
    "office4 = ConfigurationObject(\"office-4\", t_robot_config, (32.0, 4.0, 3*math.pi/2))\n",
    "office5 = ConfigurationObject(\"office-5\", t_robot_config, (4.0, 24.0, 3*math.pi/2))\n",
    "office6 = ConfigurationObject(\"office-6\", t_robot_config, (14.0, 24.0, math.pi/2))\n",
    "office7 = ConfigurationObject(\"office-7\", t_robot_config, (24.0, 24.0, math.pi/2))\n",
    "office8 = ConfigurationObject(\"office-8\", t_robot_config, (32.0, 24.0, math.pi/2))"
   ]
  },
  {
   "cell_type": "markdown",
   "id": "b233d596",
   "metadata": {},
   "source": [
    "# Another Type and Some Fluents\n",
    "\n",
    "We create another type with some objects and some fluents needed by our operators. "
   ]
  },
  {
   "cell_type": "code",
   "execution_count": null,
   "id": "e11cbab5",
   "metadata": {},
   "outputs": [],
   "source": [
    "t_parcel = UserType(\"parcel\")\n",
    "nothing = Object(\"nothing\", t_parcel)\n",
    "p1 = Object(\"parcel-1\", t_parcel)\n",
    "p2 = Object(\"parcel-2\", t_parcel)\n",
    "\n",
    "robot_at = Fluent(\"robot_at\", BoolType(), robot=t_robot, configuration=t_robot_config)\n",
    "parcel_at = Fluent(\"parcel_at\", BoolType(), parcel=t_parcel, configuration=t_robot_config)\n",
    "carries = Fluent(\"carries\", BoolType(), robot=t_robot, parcel=t_parcel)"
   ]
  },
  {
   "cell_type": "markdown",
   "id": "b9eba4f8",
   "metadata": {},
   "source": [
    "# Move Operator\n",
    "\n",
    "The move operator moves a robot from one location to another. To include the motion requirement, we add a motion constraints that requires the robot to find a path from `c_from` to `c_to`."
   ]
  },
  {
   "cell_type": "code",
   "execution_count": null,
   "id": "0eaaea16",
   "metadata": {},
   "outputs": [],
   "source": [
    "move = InstantaneousMotionAction(\n",
    "    \"move\", robot=t_robot, c_from=t_robot_config, c_to=t_robot_config\n",
    ")\n",
    "robot = move.parameter(\"robot\")\n",
    "c_from = move.parameter(\"c_from\")\n",
    "c_to = move.parameter(\"c_to\")\n",
    "move.add_precondition(robot_at(robot, c_from))\n",
    "move.add_effect(robot_at(robot, c_from), False)\n",
    "move.add_effect(robot_at(robot, c_to), True)\n",
    "\n",
    "move.add_motion_constraint(Waypoints(robot, c_from, [c_to]))"
   ]
  },
  {
   "cell_type": "markdown",
   "id": "ccba5e55",
   "metadata": {},
   "source": [
    "# Pick Operator\n",
    "\n",
    "The pick operator allows the robot to pickup a parcel at its current location if it carries nothing."
   ]
  },
  {
   "cell_type": "code",
   "execution_count": null,
   "id": "295fae83",
   "metadata": {},
   "outputs": [],
   "source": [
    "pick = InstantaneousMotionAction(\n",
    "    \"pick\", robot=t_robot, loc=t_robot_config, parcel=t_parcel\n",
    ")\n",
    "pick_robot = pick.parameter(\"robot\")\n",
    "pick_loc = pick.parameter(\"loc\")\n",
    "pick_parcel = pick.parameter(\"parcel\")\n",
    "pick.add_precondition(robot_at(pick_robot, pick_loc))\n",
    "pick.add_precondition(parcel_at(pick_parcel, pick_loc))\n",
    "pick.add_precondition(carries(pick_robot, nothing))\n",
    "pick.add_precondition(Not(carries(pick_robot, pick_parcel)))\n",
    "pick.add_effect(carries(pick_robot, pick_parcel), True)\n",
    "pick.add_effect(parcel_at(pick_parcel, pick_loc), False)\n",
    "pick.add_effect(carries(pick_robot, nothing), False)"
   ]
  },
  {
   "cell_type": "markdown",
   "id": "285ca95d",
   "metadata": {},
   "source": [
    "# Place Operator\n",
    "\n",
    "The place operator places a parcel carried by the robot at a location."
   ]
  },
  {
   "cell_type": "code",
   "execution_count": null,
   "id": "1e361402",
   "metadata": {},
   "outputs": [],
   "source": [
    "place = InstantaneousMotionAction(\n",
    "    \"place\", robot=t_robot, loc=t_robot_config, parcel=t_parcel\n",
    ")\n",
    "place_robot = place.parameter(\"robot\")\n",
    "place_loc = place.parameter(\"loc\")\n",
    "place_parcel = place.parameter(\"parcel\")\n",
    "place.add_precondition(robot_at(place_robot, place_loc))\n",
    "place.add_precondition(carries(place_robot, place_parcel))\n",
    "place.add_precondition(Not(parcel_at(place_parcel, place_loc)))\n",
    "place.add_precondition(Not(carries(place_robot, nothing)))\n",
    "place.add_effect(carries(place_robot, place_parcel), False)\n",
    "place.add_effect(carries(place_robot, nothing), True)\n",
    "place.add_effect(parcel_at(place_parcel, place_loc), True)"
   ]
  },
  {
   "cell_type": "markdown",
   "id": "ebbe8935",
   "metadata": {},
   "source": [
    "# Assembling the Problem\n",
    "\n",
    "Finally, we create a problem object and add our objects, fluents, initial state, operator and goals to it. At this point there is nothing special to do for motion planning. "
   ]
  },
  {
   "cell_type": "code",
   "execution_count": null,
   "id": "b228cb62",
   "metadata": {},
   "outputs": [],
   "source": [
    "problem = Problem(\"office-1\")\n",
    "problem.add_fluent(robot_at, default_initial_value=False)\n",
    "problem.add_fluent(parcel_at, default_initial_value=False)\n",
    "problem.add_fluent(carries, default_initial_value=False)\n",
    "problem.add_action(move)\n",
    "problem.add_action(pick)\n",
    "problem.add_action(place)\n",
    "\n",
    "problem.add_object(park1)\n",
    "problem.add_object(park2)\n",
    "problem.add_object(office1)\n",
    "problem.add_object(office2)\n",
    "problem.add_object(office3)\n",
    "problem.add_object(office4)\n",
    "problem.add_object(office5)\n",
    "problem.add_object(office6)\n",
    "problem.add_object(office7)\n",
    "problem.add_object(office8)\n",
    "\n",
    "problem.add_object(r1)\n",
    "problem.add_object(r2)\n",
    "\n",
    "problem.add_object(nothing)\n",
    "problem.add_object(p1)\n",
    "problem.add_object(p2)\n",
    "\n",
    "problem.set_initial_value(carries(r1, nothing), True)\n",
    "problem.set_initial_value(carries(r2, nothing), True)\n",
    "\n",
    "problem.set_initial_value(parcel_at(p1, office1), True)\n",
    "problem.set_initial_value(parcel_at(p2, office6), True)\n",
    "\n",
    "problem.set_initial_value(robot_at(r1, park1), True)\n",
    "problem.set_initial_value(robot_at(r2, park2), True)\n",
    "\n",
    "problem.add_goal(robot_at(r1, park1))\n",
    "problem.add_goal(robot_at(r2, park2))\n",
    "problem.add_goal(parcel_at(p1, office2))\n",
    "problem.add_goal(parcel_at(p2, office3))"
   ]
  },
  {
   "cell_type": "markdown",
   "id": "2fe65d2c",
   "metadata": {},
   "source": [
    "# Running the Planner\n",
    "\n",
    "Get a solver instance and run it to get the result."
   ]
  },
  {
   "cell_type": "code",
   "execution_count": null,
   "id": "e7534196",
   "metadata": {},
   "outputs": [],
   "source": [
    "solver = EngineImpl()\n",
    "result = solver.solve(problem)"
   ]
  },
  {
   "cell_type": "markdown",
   "id": "c406ca15",
   "metadata": {},
   "source": [
    "# The Plan"
   ]
  },
  {
   "cell_type": "code",
   "execution_count": null,
   "id": "08be5ec0",
   "metadata": {},
   "outputs": [],
   "source": [
    "for a in result.plan.actions:\n",
    "    print(a)"
   ]
  },
  {
   "cell_type": "markdown",
   "id": "5fe775aa",
   "metadata": {},
   "source": [
    "# Visualizing Paths\n",
    "\n",
    "Each `move` action in the plan above requires a path. The `plot_path` function plots all paths found in the plan on the provided map so we can see what's going on."
   ]
  },
  {
   "cell_type": "code",
   "execution_count": null,
   "id": "c7009ad2",
   "metadata": {},
   "outputs": [],
   "source": [
    "plot_path(result)"
   ]
  },
  {
   "cell_type": "code",
   "execution_count": null,
   "id": "a0372165",
   "metadata": {},
   "outputs": [],
   "source": []
  }
 ],
 "metadata": {
  "kernelspec": {
   "display_name": "Python 3 (ipykernel)",
   "language": "python",
   "name": "python3"
  },
  "language_info": {
   "codemirror_mode": {
    "name": "ipython",
    "version": 3
   },
   "file_extension": ".py",
   "mimetype": "text/x-python",
   "name": "python",
   "nbconvert_exporter": "python",
   "pygments_lexer": "ipython3",
   "version": "3.7.16"
  }
 },
 "nbformat": 4,
 "nbformat_minor": 5
}
